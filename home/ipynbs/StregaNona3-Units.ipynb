{
 "metadata": {
  "name": ""
 },
 "nbformat": 3,
 "nbformat_minor": 0,
 "worksheets": [
  {
   "cells": [
    {
     "cell_type": "raw",
     "metadata": {},
     "source": [
      "Strega Nona 3 - How many pasta-units?\n",
      "###############################\n",
      "\n",
      ":tags: ipython, sngn, modelling, fun, pint\n",
      ":date: 2014-04-11\n",
      ":category: nullresult"
     ]
    },
    {
     "cell_type": "markdown",
     "metadata": {},
     "source": [
      "So [last time](http://markbetnel.com/enough-enough-my-pasta-pot.html Strega Nona 1) I outlined the story of Strega Nona and Big Anthony and asked a couple of questions about the scenario.  This time I want to do some back-of-the-envelope estimates of the amount of pasta involved.\n",
      "\n",
      "First we know that when Strega Nona prepares pasta just for her and Big Anthony, the pot is \"full of steaming hot pasta.\"  Thus we know that the pot itself is actually not very big, producing enough pasta for two people.  Let's be generous, since this is an Italian story, and say that together they eat about **1 pound of pasta** -- this is the size of a typical box of spaghetti sold in American supermarkets, which is a bit more than I need for dinner for my family.  But, again, Big Anthony is *big*, and they *are Italian*. :)\n",
      "\n",
      "To cook 1 pound of pasta the normal way requires boiling about 3 quarts of water for about 10 minutes (first bringing the water to a boil on the stove, then adding the pasta and allowing it to boil for 10 minutes). So we have the following unit definitions:    "
     ]
    },
    {
     "cell_type": "code",
     "collapsed": false,
     "input": [
      "from pint import UnitRegistry\n",
      "u = UnitRegistry()\n",
      "\n",
      "PotVolume = 3*u.quarts\n",
      "PotMass = 1*u.pounds  \n",
      "PotTime = 1*u.sec #second (it takes 1 second to make a single serving of pasta)\n",
      "\n",
      "#ServingsPerPot = PotMass.to('sv') #  (one full pot serves two people)\n",
      "#print ServingsPerPot, 'per pot'"
     ],
     "language": "python",
     "metadata": {},
     "outputs": [],
     "prompt_number": 1
    },
    {
     "cell_type": "markdown",
     "metadata": {},
     "source": [
      "We'll use those unit definitions in a moment -- the simple family meal for two is not really that interesting yet.\n",
      "\n",
      "What about serving the entire village?  Well it's a little hard to tell how many people live in this \"town in Calabria\".  There is a Mayor, there is a Priest, there are \"the sisters of the convent\", there's Big Anthony and Strega Nona of course, and some number of regular townsfolk.  Tomie de Paola's artwork never shows more than 10 or 15 people at a time, but this seems to be too small for such a town.  Comparing to some demographics for [medieval European settlement](http://www222.pair.com/sjohn/blueroom/demog.htm demographics) we get a figure of about 100-300 for a \"village\" and 1000-8000 for a \"town\"  -- both of these seem too big given the artwork in the story, so I'll settle for the lower number of 100:"
     ]
    },
    {
     "cell_type": "code",
     "collapsed": false,
     "input": [
      "u.define('person = [people]')\n",
      "TownPopulation = 100*u.person\n",
      "print TownPopulation, \"live in a town in Calabria\""
     ],
     "language": "python",
     "metadata": {},
     "outputs": [
      {
       "output_type": "stream",
       "stream": "stdout",
       "text": [
        "100 person live in a town in Calabria\n"
       ]
      }
     ],
     "prompt_number": 2
    },
    {
     "cell_type": "markdown",
     "metadata": {},
     "source": [
      "This brings us to our first derived result -- the mass and volume of the pasta produced to feed the town:"
     ]
    },
    {
     "cell_type": "code",
     "collapsed": false,
     "input": [
      "PotsPerTown = TownPopulation / ServingsPerPot\n",
      "PastaMassPerTown = PotsPerTown * PotMass\n",
      "PastaVolumePerTown = PotsPerTown * PotVolume\n",
      "TimeToFeedTown = PotsPerTown * PotTime\n",
      "print PotsPerTown, PastaMassPerTown, PastaVolumePerTown, TimeToFeedTown\n"
     ],
     "language": "python",
     "metadata": {},
     "outputs": [
      {
       "output_type": "stream",
       "stream": "stdout",
       "text": [
        "50.0 person / serving 100.0 person 150.0 person * quart / serving 50.0 person * second / serving\n"
       ]
      }
     ],
     "prompt_number": 11
    },
    {
     "cell_type": "markdown",
     "metadata": {},
     "source": [
      "50 pots of pasta, with a mass of 50 pounds, a volume of 150 quarts (37.5 gallons), in 50 seconds of cooking time.\n",
      "\n",
      "Which is our first strange result -- surely it took longer than 50 seconds to feed everyone in the town?  Some of them twice?  Big Anthony wasn't moving *that* fast.\n",
      "\n",
      "So what does this mean?  **The pot must have two cooking modes** -- \"dinner-for-two\" mode, which is essentially instantaneous, and \"feed-the-multitude\" mode, which is actually *slower* than dinner-for-two, or Big Anthony would have been swimming in pasta long before he had finished serving the whole town.\n",
      "\n",
      "This actually makes sense, so let's figure out how fast the pot is working in this \"feed-the-multitude\" mode: I'll assume it takes about 20 minutes to feed everyone.  This is a little fast, but they seemed to be very excited about the freee pasta:"
     ]
    },
    {
     "cell_type": "code",
     "collapsed": false,
     "input": [
      "ActualTimeToFeedTown = 20.0 #minutes\n",
      "MultitudeModeCookRate = ActualTimeToFeedTown / PastaPotsPerTown\n",
      "print MultitudeModeCookRate\n"
     ],
     "language": "python",
     "metadata": {},
     "outputs": [
      {
       "output_type": "stream",
       "stream": "stdout",
       "text": [
        "0.4\n"
       ]
      }
     ],
     "prompt_number": 14
    },
    {
     "cell_type": "markdown",
     "metadata": {},
     "source": [
      "So Multitude-Mode works at 40% of the speed of normal dinner-for-two mode.  You might argue that in fact the pot just produces a new pound of pasta whenever it is empty, so the rate could go as high as you need to feed a larger multitude -- but **this would only work if someone helped Big Anthony serve**.  The pot may indeed be magical, but Big Anthony is most certainly **not**.\n",
      "\n",
      "And come to think of it, we already know that the pot will keep producing more pasta even when it is not empty, because we saw that pasta was spilling onto the floor when Big Anthony returned with the townsfolk.  Which means that there is a third cooking mode:  **ThePotIsLonelyMode** is slower than MultitudeMode and slower than DinnerForTwoMode -- since it certainly took more than 5 minutes for Anthony to return with the townsfolk, which would have been enough time to produce **300** pounds of pasta in DinnerForTwoMode, and **120** pounds in MultitudeMode.\n",
      "\n",
      "Next time let's think about the last stage of the story, which ends with the townsfolk *running* down the hillside toward the town square with a wall of pasta pursuing them:\n",
      "\n",
      "**Q: How big is the town?**\n",
      "\n",
      "**Q: What volume of pasta is required to fill the area from Strega Nona's cottage to the town square?  What assumptions are required to answer this question?**"
     ]
    },
    {
     "cell_type": "code",
     "collapsed": false,
     "input": [
      "u.define('servings = [servings] = sv')\n"
     ],
     "language": "python",
     "metadata": {},
     "outputs": [],
     "prompt_number": 3
    },
    {
     "cell_type": "code",
     "collapsed": false,
     "input": [
      "ServingsPerPot = PotMass.to(u.sv) #  (one full pot serves two people)\n",
      "print ServingsPerPot, 'per pot'"
     ],
     "language": "python",
     "metadata": {},
     "outputs": [
      {
       "ename": "DimensionalityError",
       "evalue": "Cannot convert from 'pound' ([mass]) to 'servings' ([servings])",
       "output_type": "pyerr",
       "traceback": [
        "\u001b[0;31m---------------------------------------------------------------------------\u001b[0m\n\u001b[0;31mDimensionalityError\u001b[0m                       Traceback (most recent call last)",
        "\u001b[0;32m<ipython-input-4-f3cfa4e4dfa1>\u001b[0m in \u001b[0;36m<module>\u001b[0;34m()\u001b[0m\n\u001b[0;32m----> 1\u001b[0;31m \u001b[0mServingsPerPot\u001b[0m \u001b[0;34m=\u001b[0m \u001b[0mPotMass\u001b[0m\u001b[0;34m.\u001b[0m\u001b[0mto\u001b[0m\u001b[0;34m(\u001b[0m\u001b[0mu\u001b[0m\u001b[0;34m.\u001b[0m\u001b[0msv\u001b[0m\u001b[0;34m)\u001b[0m \u001b[0;31m#  (one full pot serves two people)\u001b[0m\u001b[0;34m\u001b[0m\u001b[0m\n\u001b[0m\u001b[1;32m      2\u001b[0m \u001b[0;32mprint\u001b[0m \u001b[0mServingsPerPot\u001b[0m\u001b[0;34m,\u001b[0m \u001b[0;34m'per pot'\u001b[0m\u001b[0;34m\u001b[0m\u001b[0m\n",
        "\u001b[0;32m/Users/markbetnel/anaconda/lib/python2.7/site-packages/pint/quantity.pyc\u001b[0m in \u001b[0;36mto\u001b[0;34m(self, other, *contexts, **ctx_kwargs)\u001b[0m\n\u001b[1;32m    246\u001b[0m         \"\"\"\n\u001b[1;32m    247\u001b[0m         \u001b[0mret\u001b[0m \u001b[0;34m=\u001b[0m \u001b[0mcopy\u001b[0m\u001b[0;34m.\u001b[0m\u001b[0mcopy\u001b[0m\u001b[0;34m(\u001b[0m\u001b[0mself\u001b[0m\u001b[0;34m)\u001b[0m\u001b[0;34m\u001b[0m\u001b[0m\n\u001b[0;32m--> 248\u001b[0;31m         \u001b[0mret\u001b[0m\u001b[0;34m.\u001b[0m\u001b[0mito\u001b[0m\u001b[0;34m(\u001b[0m\u001b[0mother\u001b[0m\u001b[0;34m,\u001b[0m \u001b[0;34m*\u001b[0m\u001b[0mcontexts\u001b[0m\u001b[0;34m,\u001b[0m \u001b[0;34m**\u001b[0m\u001b[0mctx_kwargs\u001b[0m\u001b[0;34m)\u001b[0m\u001b[0;34m\u001b[0m\u001b[0m\n\u001b[0m\u001b[1;32m    249\u001b[0m         \u001b[0;32mreturn\u001b[0m \u001b[0mret\u001b[0m\u001b[0;34m\u001b[0m\u001b[0m\n\u001b[1;32m    250\u001b[0m \u001b[0;34m\u001b[0m\u001b[0m\n",
        "\u001b[0;32m/Users/markbetnel/anaconda/lib/python2.7/site-packages/pint/quantity.pyc\u001b[0m in \u001b[0;36mito\u001b[0;34m(self, other, *contexts, **ctx_kwargs)\u001b[0m\n\u001b[1;32m    235\u001b[0m             \u001b[0mother\u001b[0m \u001b[0;34m=\u001b[0m \u001b[0mUnitsContainer\u001b[0m\u001b[0;34m(\u001b[0m\u001b[0mother\u001b[0m\u001b[0;34m)\u001b[0m\u001b[0;34m\u001b[0m\u001b[0m\n\u001b[1;32m    236\u001b[0m \u001b[0;34m\u001b[0m\u001b[0m\n\u001b[0;32m--> 237\u001b[0;31m         \u001b[0mself\u001b[0m\u001b[0;34m.\u001b[0m\u001b[0m_magnitude\u001b[0m \u001b[0;34m=\u001b[0m \u001b[0mself\u001b[0m\u001b[0;34m.\u001b[0m\u001b[0m_convert_magnitude\u001b[0m\u001b[0;34m(\u001b[0m\u001b[0mother\u001b[0m\u001b[0;34m,\u001b[0m \u001b[0;34m*\u001b[0m\u001b[0mcontexts\u001b[0m\u001b[0;34m,\u001b[0m \u001b[0;34m**\u001b[0m\u001b[0mctx_kwargs\u001b[0m\u001b[0;34m)\u001b[0m\u001b[0;34m\u001b[0m\u001b[0m\n\u001b[0m\u001b[1;32m    238\u001b[0m         \u001b[0mself\u001b[0m\u001b[0;34m.\u001b[0m\u001b[0m_units\u001b[0m \u001b[0;34m=\u001b[0m \u001b[0mother\u001b[0m\u001b[0;34m\u001b[0m\u001b[0m\n\u001b[1;32m    239\u001b[0m         \u001b[0;32mreturn\u001b[0m \u001b[0mself\u001b[0m\u001b[0;34m\u001b[0m\u001b[0m\n",
        "\u001b[0;32m/Users/markbetnel/anaconda/lib/python2.7/site-packages/pint/quantity.pyc\u001b[0m in \u001b[0;36m_convert_magnitude\u001b[0;34m(self, other, *contexts, **ctx_kwargs)\u001b[0m\n\u001b[1;32m    218\u001b[0m                 \u001b[0;32mreturn\u001b[0m \u001b[0mself\u001b[0m\u001b[0;34m.\u001b[0m\u001b[0m_REGISTRY\u001b[0m\u001b[0;34m.\u001b[0m\u001b[0mconvert\u001b[0m\u001b[0;34m(\u001b[0m\u001b[0mself\u001b[0m\u001b[0;34m.\u001b[0m\u001b[0m_magnitude\u001b[0m\u001b[0;34m,\u001b[0m \u001b[0mself\u001b[0m\u001b[0;34m.\u001b[0m\u001b[0m_units\u001b[0m\u001b[0;34m,\u001b[0m \u001b[0mother\u001b[0m\u001b[0;34m)\u001b[0m\u001b[0;34m\u001b[0m\u001b[0m\n\u001b[1;32m    219\u001b[0m \u001b[0;34m\u001b[0m\u001b[0m\n\u001b[0;32m--> 220\u001b[0;31m         \u001b[0;32mreturn\u001b[0m \u001b[0mself\u001b[0m\u001b[0;34m.\u001b[0m\u001b[0m_REGISTRY\u001b[0m\u001b[0;34m.\u001b[0m\u001b[0mconvert\u001b[0m\u001b[0;34m(\u001b[0m\u001b[0mself\u001b[0m\u001b[0;34m.\u001b[0m\u001b[0m_magnitude\u001b[0m\u001b[0;34m,\u001b[0m \u001b[0mself\u001b[0m\u001b[0;34m.\u001b[0m\u001b[0m_units\u001b[0m\u001b[0;34m,\u001b[0m \u001b[0mother\u001b[0m\u001b[0;34m)\u001b[0m\u001b[0;34m\u001b[0m\u001b[0m\n\u001b[0m\u001b[1;32m    221\u001b[0m \u001b[0;34m\u001b[0m\u001b[0m\n\u001b[1;32m    222\u001b[0m     \u001b[0;32mdef\u001b[0m \u001b[0mito\u001b[0m\u001b[0;34m(\u001b[0m\u001b[0mself\u001b[0m\u001b[0;34m,\u001b[0m \u001b[0mother\u001b[0m\u001b[0;34m=\u001b[0m\u001b[0mNone\u001b[0m\u001b[0;34m,\u001b[0m \u001b[0;34m*\u001b[0m\u001b[0mcontexts\u001b[0m\u001b[0;34m,\u001b[0m \u001b[0;34m**\u001b[0m\u001b[0mctx_kwargs\u001b[0m\u001b[0;34m)\u001b[0m\u001b[0;34m:\u001b[0m\u001b[0;34m\u001b[0m\u001b[0m\n",
        "\u001b[0;32m/Users/markbetnel/anaconda/lib/python2.7/site-packages/pint/unit.pyc\u001b[0m in \u001b[0;36mconvert\u001b[0;34m(self, value, src, dst)\u001b[0m\n\u001b[1;32m    863\u001b[0m \u001b[0;34m\u001b[0m\u001b[0m\n\u001b[1;32m    864\u001b[0m         \u001b[0;32mif\u001b[0m \u001b[0msrc_dim\u001b[0m \u001b[0;34m!=\u001b[0m \u001b[0mdst_dim\u001b[0m\u001b[0;34m:\u001b[0m\u001b[0;34m\u001b[0m\u001b[0m\n\u001b[0;32m--> 865\u001b[0;31m             \u001b[0;32mraise\u001b[0m \u001b[0mDimensionalityError\u001b[0m\u001b[0;34m(\u001b[0m\u001b[0msrc\u001b[0m\u001b[0;34m,\u001b[0m \u001b[0mdst\u001b[0m\u001b[0;34m,\u001b[0m \u001b[0msrc_dim\u001b[0m\u001b[0;34m,\u001b[0m \u001b[0mdst_dim\u001b[0m\u001b[0;34m)\u001b[0m\u001b[0;34m\u001b[0m\u001b[0m\n\u001b[0m\u001b[1;32m    866\u001b[0m \u001b[0;34m\u001b[0m\u001b[0m\n\u001b[1;32m    867\u001b[0m         \u001b[0;32mif\u001b[0m \u001b[0mlen\u001b[0m\u001b[0;34m(\u001b[0m\u001b[0msrc\u001b[0m\u001b[0;34m)\u001b[0m \u001b[0;34m==\u001b[0m \u001b[0;36m1\u001b[0m\u001b[0;34m:\u001b[0m\u001b[0;34m\u001b[0m\u001b[0m\n",
        "\u001b[0;31mDimensionalityError\u001b[0m: Cannot convert from 'pound' ([mass]) to 'servings' ([servings])"
       ]
      }
     ],
     "prompt_number": 4
    },
    {
     "cell_type": "code",
     "collapsed": false,
     "input": [
      "PotsPerTown = TownPopulation / ServingsPerPot\n",
      "print PotsPerTown"
     ],
     "language": "python",
     "metadata": {},
     "outputs": [
      {
       "ename": "NameError",
       "evalue": "name 'ServingsPerPot' is not defined",
       "output_type": "pyerr",
       "traceback": [
        "\u001b[0;31m---------------------------------------------------------------------------\u001b[0m\n\u001b[0;31mNameError\u001b[0m                                 Traceback (most recent call last)",
        "\u001b[0;32m<ipython-input-5-31567fdf5530>\u001b[0m in \u001b[0;36m<module>\u001b[0;34m()\u001b[0m\n\u001b[0;32m----> 1\u001b[0;31m \u001b[0mPotsPerTown\u001b[0m \u001b[0;34m=\u001b[0m \u001b[0mTownPopulation\u001b[0m \u001b[0;34m/\u001b[0m \u001b[0mServingsPerPot\u001b[0m\u001b[0;34m\u001b[0m\u001b[0m\n\u001b[0m\u001b[1;32m      2\u001b[0m \u001b[0;32mprint\u001b[0m \u001b[0mPotsPerTown\u001b[0m\u001b[0;34m\u001b[0m\u001b[0m\n",
        "\u001b[0;31mNameError\u001b[0m: name 'ServingsPerPot' is not defined"
       ]
      }
     ],
     "prompt_number": 5
    },
    {
     "cell_type": "code",
     "collapsed": false,
     "input": [
      "u.person"
     ],
     "language": "python",
     "metadata": {},
     "outputs": [
      {
       "html": [
        "1 person"
       ],
       "latex": [
        "$1 person$"
       ],
       "metadata": {},
       "output_type": "pyout",
       "prompt_number": 34,
       "text": [
        "<Quantity(1, 'person')>"
       ]
      }
     ],
     "prompt_number": 34
    },
    {
     "cell_type": "code",
     "collapsed": false,
     "input": [],
     "language": "python",
     "metadata": {},
     "outputs": []
    }
   ],
   "metadata": {}
  }
 ]
}