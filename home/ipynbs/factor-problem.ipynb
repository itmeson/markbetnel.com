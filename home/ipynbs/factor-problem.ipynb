{
 "metadata": {
  "name": "",
  "signature": "sha256:cd67132cb064ac44f1e95f37de97bc6d96838a8f5bb6bb58242def8d38fbcb02"
 },
 "nbformat": 3,
 "nbformat_minor": 0,
 "worksheets": [
  {
   "cells": [
    {
     "cell_type": "raw",
     "metadata": {},
     "source": [
      "Factoring Problem\n",
      "#################\n",
      "\n",
      ":tags: ipython, factoring, problems, method, thinkingoutloud\n",
      ":date: 2015-05-16\n",
      ":category: nullresult\n",
      ":status: draft\n",
      "\n",
      ".. raw:: html\n",
      "\n",
      "   <blockquote class=\"twitter-tweet\" lang=\"en\"><p>Oh I must be tired!! I meant..&#10;For which n is (n-1)!/n an integer?&#10;&#10;(Other version legit too but not interesting!!)</p>&mdash; James Tanton (@jamestanton) <a href=\"https://twitter.com/jamestanton/status/588343984533061637\">April 15, 2015</a></blockquote>\n",
      "   <script async src=\"//platform.twitter.com/widgets.js\" charset=\"utf-8\"></script>\n",
      "..\n",
      "\n"
     ]
    },
    {
     "cell_type": "markdown",
     "metadata": {},
     "source": [
      "Problem of the day, via James Tanton on twitter:\n",
      "\n",
      "The other version had been the inverse -- for which values of **n** is $\\frac{n}{(n-1)!}$ an integer?  I saw that one first, just after I got on the bus this morning, and had already been thinking about it for a minute when I saw the followup.\n",
      "\n",
      "Why is the original one \"not interesting\"?\n",
      "\n",
      "How do we go about thinking about a problem like this?"
     ]
    },
    {
     "cell_type": "code",
     "collapsed": false,
     "input": [
      "def factorial(n):\n",
      "    \"\"\"Simple factorial function.  Note that this function is NOT a good one for large numbers\"\"\"\n",
      "    if n == 0 or n == 1:\n",
      "        return 1\n",
      "    else:\n",
      "        return n*factorial(n-1)\n",
      "\n",
      "for i in range(1,10):\n",
      "    print i, \"\\t\", factorial(i-1), \"\\t\", float(i)/factorial(i-1)"
     ],
     "language": "python",
     "metadata": {},
     "outputs": [
      {
       "output_type": "stream",
       "stream": "stdout",
       "text": [
        "1 \t1 \t1.0\n",
        "2 \t1 \t2.0\n",
        "3 \t2 \t1.5\n",
        "4 \t6 \t0.666666666667\n",
        "5 \t24 \t0.208333333333\n",
        "6 \t120 \t0.05\n",
        "7 \t720 \t0.00972222222222\n",
        "8 \t5040 \t0.0015873015873\n",
        "9 \t40320 \t0.000223214285714\n"
       ]
      }
     ],
     "prompt_number": 5
    },
    {
     "cell_type": "markdown",
     "metadata": {},
     "source": [
      "We could just calculate.\n",
      "\n",
      "And we learn that when $n=1$ and $n=2$ we get integers, and that it doesn't seem likely there will be any more, because the top number in the fraction is growing *really* fast at this point, but the bottom number isn't.  So the result is getting closer and closer to zero.\n",
      "\n",
      "So we learned *something*, but not much.  \n",
      "\n",
      "What about the second version?  Let's try the same calculation:\n"
     ]
    },
    {
     "cell_type": "code",
     "collapsed": false,
     "input": [
      "for i in range(1,10):\n",
      "    print i, \"\\t\", factorial(i-1), \"\\t\", factorial(i-1)/float(i)"
     ],
     "language": "python",
     "metadata": {},
     "outputs": [
      {
       "output_type": "stream",
       "stream": "stdout",
       "text": [
        "1 \t1 \t1.0\n",
        "2 \t1 \t0.5\n",
        "3 \t2 \t0.666666666667\n",
        "4 \t6 \t1.5\n",
        "5 \t24 \t4.8\n",
        "6 \t120 \t20.0\n",
        "7 \t720 \t102.857142857\n",
        "8 \t5040 \t630.0\n",
        "9 \t40320 \t4480.0\n"
       ]
      }
     ],
     "prompt_number": 6
    },
    {
     "cell_type": "markdown",
     "metadata": {},
     "source": [
      "Hmm.  The factorial part is now on top, so the top of the fraction is the one growing really fast now, so the result is getting bigger and bigger.  We also see more integers, $n=1,6, 9$ all work.  Why?  Let's try a few more."
     ]
    },
    {
     "cell_type": "code",
     "collapsed": false,
     "input": [
      "for i in range(10,17):\n",
      "    print i, \"\\t\", factorial(i-1), \"\\t\", factorial(i-1)/float(i)"
     ],
     "language": "python",
     "metadata": {},
     "outputs": [
      {
       "output_type": "stream",
       "stream": "stdout",
       "text": [
        "10 \t362880 \t36288.0\n",
        "11 \t3628800 \t329890.909091\n",
        "12 \t39916800 \t3326400.0\n",
        "13 \t479001600 \t36846276.9231\n",
        "14 \t6227020800 \t444787200.0\n",
        "15 \t87178291200 \t5811886080.0\n",
        "16 \t1307674368000 \t81729648000.0\n"
       ]
      }
     ],
     "prompt_number": 9
    },
    {
     "cell_type": "markdown",
     "metadata": {},
     "source": [
      "More integers.  When $n=10,12,13,14,15,16$.\n",
      "\n",
      "**First mistake**\n",
      "\n",
      "When I was doing this on the bus, I was doing it in my head, and I made a couple of mistakes.  I thought I noticed that all and only the even numbers worked, except 2.  So I conjectured that all the even numbers worked, which surprised me.  Then I noticed that 15 works, which was the first odd one I noticed, (and then later went back and found that 9 works too -- though more on that one later)\n",
      "\n",
      "Doing it this way with the code is really just like using a calculator to punch in the numbers -- just faster since I don't have to enter each term individually.  But it really doesn't reveal much. \n",
      "\n",
      "I don't understand the problem any better than I did when I started.\n"
     ]
    },
    {
     "cell_type": "code",
     "collapsed": false,
     "input": [
      "for i in range(5,0,-1):\n",
      "    print i,\n",
      "print \"\\n-----------------\"\n",
      "print \"      \", 6, \"        \"\n"
     ],
     "language": "python",
     "metadata": {},
     "outputs": [
      {
       "output_type": "stream",
       "stream": "stdout",
       "text": [
        "5 4 3 2 1 \n",
        "-----------------\n",
        "       6         \n"
       ]
      }
     ],
     "prompt_number": 15
    },
    {
     "cell_type": "code",
     "collapsed": false,
     "input": [],
     "language": "python",
     "metadata": {},
     "outputs": []
    }
   ],
   "metadata": {}
  }
 ]
}