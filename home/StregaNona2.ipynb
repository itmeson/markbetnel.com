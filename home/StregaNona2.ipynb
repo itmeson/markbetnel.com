{
 "metadata": {
  "name": ""
 },
 "nbformat": 3,
 "nbformat_minor": 0,
 "worksheets": [
  {
   "cells": [
    {
     "cell_type": "raw",
     "metadata": {},
     "source": [
      "Strega Nona 2 - How much pasta?\n",
      "###############################\n",
      "\n",
      ":tags: ipython, sngn, modelling, fun\n",
      ":date: 2014-04-11\n",
      ":category: nullresult"
     ]
    },
    {
     "cell_type": "markdown",
     "metadata": {},
     "source": [
      "So [last time](http://markbetnel.com/enough-enough-my-pasta-pot.html Strega Nona 1) I outlined the story of Strega Nona and Big Anthony and asked a couple of questions about the scenario.  This time I want to do some back-of-the-envelope estimates of the amount of pasta involved.\n",
      "\n",
      "First we know that when Strega Nona prepares pasta just for her and Big Anthony, the pot is \"full of steaming hot pasta.\"  Thus we know that the pot itself is actually not very big, producing enough pasta for two people.  Let's be generous, since this is an Italian story, and say that together they eat about **1 pound of pasta** -- this is the size of a typical box of spaghetti sold in American supermarkets, which is a bit more than I need for dinner for my family.  But, again, Big Anthony is *big*, and they *are Italian*. :)\n",
      "\n",
      "To cook 1 pound of pasta the normal way requires boiling about 3 quarts of water for about 10 minutes (first bringing the water to a boil on the stove, then adding the pasta and allowing it to boil for 10 minutes). So we have the following unit definitions:    "
     ]
    },
    {
     "cell_type": "code",
     "collapsed": false,
     "input": [
      "OnePastaPotVolume = 3 #quarts\n",
      "OnePastaPotMass = 1 #pound \n",
      "OnePastaPotTime = 1 #second (it takes 1 second to make a single serving of pasta)\n",
      "OnePastaPotServings = 2 #people (one full pot serves two people)\n"
     ],
     "language": "python",
     "metadata": {},
     "outputs": [],
     "prompt_number": 11
    },
    {
     "cell_type": "markdown",
     "metadata": {},
     "source": [
      "We'll use those unit definitions in a moment -- the simple family meal for two is not really that interesting yet.\n",
      "\n",
      "What about serving the entire village?  Well it's a little hard to tell how many people live in this \"town in Calabria\".  There is a Mayor, there is a Priest, there are \"the sisters of the convent\", there's Big Anthony and Strega Nona of course, and some number of regular townsfolk.  Tomie de Paola's artwork never shows more than 10 or 15 people at a time, but this seems to be too small for such a town.  Comparing to some demographics for [medieval European settlement](http://www222.pair.com/sjohn/blueroom/demog.htm demographics) we get a figure of about 100-300 for a \"village\" and 1000-8000 for a \"town\"  -- both of these seem too big given the artwork in the story, so I'll settle for the lower number of 100:"
     ]
    },
    {
     "cell_type": "code",
     "collapsed": false,
     "input": [
      "TownPopulation = 100\n"
     ],
     "language": "python",
     "metadata": {},
     "outputs": [],
     "prompt_number": 12
    },
    {
     "cell_type": "markdown",
     "metadata": {},
     "source": [
      "This brings us to our first derived result -- the mass and volume of the pasta produced to feed the town:"
     ]
    },
    {
     "cell_type": "code",
     "collapsed": false,
     "input": [
      "PastaPotsPerTown = TownPopulation / OnePastaPotServings\n",
      "PastaMassPerTown = PastaPotsPerTown * OnePastaPotMass\n",
      "PastaVolumePerTown = PastaPotsPerTown * OnePastaPotVolume\n",
      "TimeToFeedTown = PastaPotsPerTown * OnePastaPotTime\n",
      "print PastaPotsPerTown, PastaMassPerTown, PastaVolumePerTown, TimeToFeedTown\n"
     ],
     "language": "python",
     "metadata": {},
     "outputs": [
      {
       "output_type": "stream",
       "stream": "stdout",
       "text": [
        "50 50 150 50\n"
       ]
      }
     ],
     "prompt_number": 13
    },
    {
     "cell_type": "markdown",
     "metadata": {},
     "source": [
      "50 pots of pasta, with a mass of 50 pounds, a volume of 150 quarts (37.5 gallons), in 50 seconds of cooking time.\n",
      "\n",
      "Which is our first strange result -- surely it took longer than 50 seconds to feed everyone in the town?  Some of them twice?  Big Anthony wasn't moving *that* fast.\n",
      "\n",
      "So what does this mean?  **The pot must have two cooking modes** -- \"dinner-for-two\" mode, which is essentially instantaneous, and \"feed-the-multitude\" mode, which is actually *slower* than dinner-for-two, or Big Anthony would have been swimming in pasta long before he had finished serving the whole town.\n",
      "\n",
      "This actually makes sense, so let's figure out how fast the pot is working in this \"feed-the-multitude\" mode: I'll assume it takes about 20 minutes to feed everyone.  This is a little fast, but they seemed to be very excited about the freee pasta:"
     ]
    },
    {
     "cell_type": "code",
     "collapsed": false,
     "input": [
      "ActualTimeToFeedTown = 20.0 #minutes\n",
      "MultitudeModeCookRate = ActualTimeToFeedTown / PastaPotsPerTown\n",
      "print MultitudeModeCookRate\n"
     ],
     "language": "python",
     "metadata": {},
     "outputs": [
      {
       "output_type": "stream",
       "stream": "stdout",
       "text": [
        "0.4\n"
       ]
      }
     ],
     "prompt_number": 14
    },
    {
     "cell_type": "markdown",
     "metadata": {},
     "source": [
      "So Multitude-Mode works at 40% of the speed of normal dinner-for-two mode.  You might argue that in fact the pot just produces a new pound of pasta whenever it is empty, so the rate could go as high as you need to feed a larger multitude -- but **this would only work if someone helped Big Anthony serve**.  The pot may indeed be magical, but Big Anthony is most certainly **not**.\n",
      "\n",
      "And come to think of it, we already know that the pot will keep producing more pasta even when it is not empty, because we saw that pasta was spilling onto the floor when Big Anthony returned with the townsfolk.  Which means that there is a third cooking mode:  **ThePotIsLonelyMode** is slower than MultitudeMode and slower than DinnerForTwoMode -- since it certainly took more than 5 minutes for Anthony to return with the townsfolk, which would have been enough time to produce **300** pounds of pasta in DinnerForTwoMode, and **120** pounds in MultitudeMode.\n",
      "\n",
      "Next time let's think about the last stage of the story, which ends with the townsfolk *running* down the hillside toward the town square with a wall of pasta pursuing them:\n",
      "\n",
      "**Q: How big is the town?**\n",
      "\n",
      "**Q: What volume of pasta is required to fill the area from Strega Nona's cottage to the town square?  What assumptions are required to answer this question?**"
     ]
    }
   ],
   "metadata": {}
  }
 ]
}