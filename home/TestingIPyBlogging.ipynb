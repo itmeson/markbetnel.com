{
 "metadata": {
  "name": ""
 },
 "nbformat": 3,
 "nbformat_minor": 0,
 "worksheets": [
  {
   "cells": [
    {
     "cell_type": "raw",
     "metadata": {},
     "source": [
      "Testing IPy Blogging\n",
      "####################\n",
      "\n",
      ":tags: ipython, blogging, test\n",
      ":date: 2014-04-09\n",
      ":category: nullresult\n"
     ]
    },
    {
     "cell_type": "markdown",
     "metadata": {},
     "source": [
      "This is a test post.  I just want to see what markdown and code blocks look like in my theme so I can start doing some analysis posts.  The method for doing this comes from this [notebook](http://nbviewer.ipython.org/github/keflavich/blog/blob/master/content/BloggingFromIPython.ipynb \"nbviewer link\").  I'll have to do some fussing with it later to get format right, and to make sure I can use matplotlib and the new interact mechanism."
     ]
    },
    {
     "cell_type": "code",
     "collapsed": false,
     "input": [
      "def fib(n):\n",
      "    if n == 0 or n == 1:\n",
      "        return 1\n",
      "    else:\n",
      "        return fib(n-1) + fib(n-2)\n",
      "\n",
      "for i in range(10):\n",
      "    print i, fib(i)"
     ],
     "language": "python",
     "metadata": {},
     "outputs": [
      {
       "output_type": "stream",
       "stream": "stdout",
       "text": [
        "0 1\n",
        "1 1\n",
        "2 2\n",
        "3 3\n",
        "4 5\n",
        "5 8\n",
        "6 13\n",
        "7 21\n",
        "8 34\n",
        "9 55\n"
       ]
      }
     ],
     "prompt_number": 4
    }
   ],
   "metadata": {}
  }
 ]
}