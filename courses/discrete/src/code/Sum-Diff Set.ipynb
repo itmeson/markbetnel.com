{
 "metadata": {
  "name": "Sum-Diff Set"
 },
 "nbformat": 3,
 "nbformat_minor": 0,
 "worksheets": [
  {
   "cells": [
    {
     "cell_type": "code",
     "collapsed": false,
     "input": [
      "import random\n",
      "\n",
      "nums = random.sample(range(10),6)\n",
      "print nums\n",
      "#nums = [random.randint(0,10) for x in range(7)]\n",
      "#nums = range(7)\n",
      "sd = []\n",
      "for i in nums:\n",
      "    for j in nums:\n",
      "        if i == j:\n",
      "            continue\n",
      "        else:\n",
      "            sd.append(i+j)\n",
      "            sd.append(i-j)\n",
      "print sd"
     ],
     "language": "python",
     "metadata": {},
     "outputs": [
      {
       "output_type": "stream",
       "stream": "stdout",
       "text": [
        "[3, 4, 1, 0, 8, 9]\n",
        "[7, -1, 4, 2, 3, 3, 11, -5, 12, -6, 7, 1, 5, 3, 4, 4, 12, -4, 13, -5, 4, -2, 5, -3, 1, 1, 9, -7, 10, -8, 3, -3, 4, -4, 1, -1, 8, -8, 9, -9, 11, 5, 12, 4, 9, 7, 8, 8, 17, -1, 12, 6, 13, 5, 10, 8, 9, 9, 17, 1]\n"
       ]
      }
     ],
     "prompt_number": 24
    },
    {
     "cell_type": "code",
     "collapsed": false,
     "input": [
      "len(sd)"
     ],
     "language": "python",
     "metadata": {},
     "outputs": [
      {
       "output_type": "pyout",
       "prompt_number": 13,
       "text": [
        "84"
       ]
      }
     ],
     "prompt_number": 13
    },
    {
     "cell_type": "code",
     "collapsed": false,
     "input": [
      "nums"
     ],
     "language": "python",
     "metadata": {},
     "outputs": [
      {
       "output_type": "pyout",
       "prompt_number": 14,
       "text": [
        "[8, 6, 2, 0, 7, 4, 5]"
       ]
      }
     ],
     "prompt_number": 14
    },
    {
     "cell_type": "code",
     "collapsed": false,
     "input": [],
     "language": "python",
     "metadata": {},
     "outputs": []
    }
   ],
   "metadata": {}
  }
 ]
}